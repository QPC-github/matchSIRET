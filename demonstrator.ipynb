{
 "cells": [
  {
   "cell_type": "code",
   "execution_count": 1,
   "id": "e1b0bd0a-bf5b-46c3-b722-c4497e1b11bc",
   "metadata": {},
   "outputs": [],
   "source": [
    "%load_ext autoreload\n",
    "%autoreload 2"
   ]
  },
  {
   "cell_type": "code",
   "execution_count": 2,
   "id": "5b59d861-83d6-4dbe-b1f7-56f0a5b75da9",
   "metadata": {},
   "outputs": [],
   "source": [
    "import os\n",
    "import pandas as pd\n",
    "import evaluation"
   ]
  },
  {
   "cell_type": "code",
   "execution_count": 3,
   "id": "d52d472c-365e-4132-94c6-13222a1d7449",
   "metadata": {},
   "outputs": [],
   "source": [
    "os.chdir(\"/home/jovyan/work/matchSIRET\")\n",
    "data_path = \"/home/jovyan/work/2019/etablissements.csv\""
   ]
  },
  {
   "cell_type": "code",
   "execution_count": 4,
   "id": "ceec2a94-78fc-4ee3-aa8a-78ee95ae934b",
   "metadata": {},
   "outputs": [
    {
     "data": {
      "text/html": [
       "<div>\n",
       "<style scoped>\n",
       "    .dataframe tbody tr th:only-of-type {\n",
       "        vertical-align: middle;\n",
       "    }\n",
       "\n",
       "    .dataframe tbody tr th {\n",
       "        vertical-align: top;\n",
       "    }\n",
       "\n",
       "    .dataframe thead th {\n",
       "        text-align: right;\n",
       "    }\n",
       "</style>\n",
       "<table border=\"1\" class=\"dataframe\">\n",
       "  <thead>\n",
       "    <tr style=\"text-align: right;\">\n",
       "      <th></th>\n",
       "      <th>identifiant</th>\n",
       "      <th>nom_etablissement</th>\n",
       "      <th>numero_siret</th>\n",
       "      <th>adresse</th>\n",
       "      <th>code_postal</th>\n",
       "      <th>commune</th>\n",
       "      <th>departement</th>\n",
       "      <th>region</th>\n",
       "      <th>coordonnees_x</th>\n",
       "      <th>coordonnees_y</th>\n",
       "      <th>code_epsg</th>\n",
       "      <th>code_ape</th>\n",
       "      <th>libelle_ape</th>\n",
       "      <th>code_eprtr</th>\n",
       "      <th>libelle_eprtr</th>\n",
       "    </tr>\n",
       "  </thead>\n",
       "  <tbody>\n",
       "    <tr>\n",
       "      <th>0</th>\n",
       "      <td>0009073402</td>\n",
       "      <td>STEP - BEZIERS</td>\n",
       "      <td>41003460701688</td>\n",
       "      <td>Plaine Saint Pierre</td>\n",
       "      <td>34500</td>\n",
       "      <td>BEZIERS</td>\n",
       "      <td>HERAULT</td>\n",
       "      <td>OCCITANIE</td>\n",
       "      <td>672948.910000</td>\n",
       "      <td>1813634.130000</td>\n",
       "      <td>27572</td>\n",
       "      <td>3700Z</td>\n",
       "      <td>Collecte et traitement des eaux usées</td>\n",
       "      <td>5.(f)</td>\n",
       "      <td>Installations de traitement des eaux urbaines ...</td>\n",
       "    </tr>\n",
       "    <tr>\n",
       "      <th>1</th>\n",
       "      <td>0009076401</td>\n",
       "      <td>STEP - Pont de l'aveugle</td>\n",
       "      <td>20006710600241</td>\n",
       "      <td>17 avenue de l'adour</td>\n",
       "      <td>64600</td>\n",
       "      <td>ANGLET</td>\n",
       "      <td>PYRENEES-ATLANTIQUES</td>\n",
       "      <td>NOUVELLE-AQUITAINE</td>\n",
       "      <td>-1.498014</td>\n",
       "      <td>43.502093</td>\n",
       "      <td>4326</td>\n",
       "      <td>3700Z</td>\n",
       "      <td>Collecte et traitement des eaux usées</td>\n",
       "      <td>5.(f)</td>\n",
       "      <td>Installations de traitement des eaux urbaines ...</td>\n",
       "    </tr>\n",
       "    <tr>\n",
       "      <th>2</th>\n",
       "      <td>0009076202</td>\n",
       "      <td>STEP - Loison Sous Lens</td>\n",
       "      <td>57202552600813</td>\n",
       "      <td>1 route de lens</td>\n",
       "      <td>62218</td>\n",
       "      <td>LOISON-SOUS-LENS</td>\n",
       "      <td>PAS-DE-CALAIS</td>\n",
       "      <td>HAUTS-DE-FRANCE</td>\n",
       "      <td>2.856548</td>\n",
       "      <td>50.435944</td>\n",
       "      <td>4326</td>\n",
       "      <td>3700Z</td>\n",
       "      <td>Collecte et traitement des eaux usées</td>\n",
       "      <td>5.(f)</td>\n",
       "      <td>Installations de traitement des eaux urbaines ...</td>\n",
       "    </tr>\n",
       "    <tr>\n",
       "      <th>3</th>\n",
       "      <td>0009077801</td>\n",
       "      <td>SIAAP - Site Seine Aval</td>\n",
       "      <td>25755000400044</td>\n",
       "      <td>BP 104</td>\n",
       "      <td>78603</td>\n",
       "      <td>MAISONS-LAFFITTE</td>\n",
       "      <td>YVELINES</td>\n",
       "      <td>ILE-DE-FRANCE</td>\n",
       "      <td>2.140590</td>\n",
       "      <td>48.984100</td>\n",
       "      <td>4326</td>\n",
       "      <td>3700Z</td>\n",
       "      <td>Collecte et traitement des eaux usées</td>\n",
       "      <td>5.(f)</td>\n",
       "      <td>Installations de traitement des eaux urbaines ...</td>\n",
       "    </tr>\n",
       "    <tr>\n",
       "      <th>4</th>\n",
       "      <td>0009079001</td>\n",
       "      <td>UDEP-BELFORT</td>\n",
       "      <td>20006905200070</td>\n",
       "      <td>Boulevard Dunant (entrée par Allée des Grands ...</td>\n",
       "      <td>90000</td>\n",
       "      <td>BELFORT</td>\n",
       "      <td>TERRITOIRE-DE-BELFORT</td>\n",
       "      <td>BOURGOGNE-FRANCHE-COMTE</td>\n",
       "      <td>6.861504</td>\n",
       "      <td>47.625407</td>\n",
       "      <td>4326</td>\n",
       "      <td>3700Z</td>\n",
       "      <td>Collecte et traitement des eaux usées</td>\n",
       "      <td>5.(f)</td>\n",
       "      <td>Installations de traitement des eaux urbaines ...</td>\n",
       "    </tr>\n",
       "    <tr>\n",
       "      <th>...</th>\n",
       "      <td>...</td>\n",
       "      <td>...</td>\n",
       "      <td>...</td>\n",
       "      <td>...</td>\n",
       "      <td>...</td>\n",
       "      <td>...</td>\n",
       "      <td>...</td>\n",
       "      <td>...</td>\n",
       "      <td>...</td>\n",
       "      <td>...</td>\n",
       "      <td>...</td>\n",
       "      <td>...</td>\n",
       "      <td>...</td>\n",
       "      <td>...</td>\n",
       "      <td>...</td>\n",
       "    </tr>\n",
       "    <tr>\n",
       "      <th>8958</th>\n",
       "      <td>0010400114</td>\n",
       "      <td>AIR LIQUIDE FRANCE INDUSTRIE</td>\n",
       "      <td>31411950400681</td>\n",
       "      <td>Rue Gaston Monmousseau, Plateforme Chimique de...</td>\n",
       "      <td>38150</td>\n",
       "      <td>SALAISE-SUR-SANNE</td>\n",
       "      <td>ISERE</td>\n",
       "      <td>AUVERGNE-RHONE-ALPES</td>\n",
       "      <td>840112.000000</td>\n",
       "      <td>6473836.000000</td>\n",
       "      <td>2154</td>\n",
       "      <td>2011Z</td>\n",
       "      <td>Fabrication de gaz industriels</td>\n",
       "      <td>4.(a).(i)</td>\n",
       "      <td>hydrocarbures simples (linéaires ou cycliques,...</td>\n",
       "    </tr>\n",
       "    <tr>\n",
       "      <th>8959</th>\n",
       "      <td>0010800317</td>\n",
       "      <td>PERNAT EMILE SA (ETABLISSEMENTS)</td>\n",
       "      <td>60632019000055</td>\n",
       "      <td>375, rue des techniques, ZI des prés paris</td>\n",
       "      <td>74970</td>\n",
       "      <td>MARIGNIER</td>\n",
       "      <td>HAUTE-SAVOIE</td>\n",
       "      <td>AUVERGNE-RHONE-ALPES</td>\n",
       "      <td>970803.000000</td>\n",
       "      <td>6559043.000000</td>\n",
       "      <td>2154</td>\n",
       "      <td>2562A</td>\n",
       "      <td>Décolletage</td>\n",
       "      <td>NaN</td>\n",
       "      <td>NaN</td>\n",
       "    </tr>\n",
       "    <tr>\n",
       "      <th>8960</th>\n",
       "      <td>0018200203</td>\n",
       "      <td>PLASTISUD SAS</td>\n",
       "      <td>44389311000025</td>\n",
       "      <td>5, rue Joseph Jacquard, ZI d'En Tourre</td>\n",
       "      <td>11400</td>\n",
       "      <td>CASTELNAUDARY</td>\n",
       "      <td>AUDE</td>\n",
       "      <td>OCCITANIE</td>\n",
       "      <td>615286.000000</td>\n",
       "      <td>6245922.000000</td>\n",
       "      <td>2154</td>\n",
       "      <td>2573A</td>\n",
       "      <td>Fabrication de moules et modèles</td>\n",
       "      <td>NaN</td>\n",
       "      <td>NaN</td>\n",
       "    </tr>\n",
       "    <tr>\n",
       "      <th>8961</th>\n",
       "      <td>0018300518</td>\n",
       "      <td>Communauté de Communes Nord Bassin Thau</td>\n",
       "      <td>24340075100117</td>\n",
       "      <td>Route de Mèze, CD 5E BP 5</td>\n",
       "      <td>34560</td>\n",
       "      <td>VILLEVEYRAC</td>\n",
       "      <td>HERAULT</td>\n",
       "      <td>OCCITANIE</td>\n",
       "      <td>747911.000000</td>\n",
       "      <td>6264523.000000</td>\n",
       "      <td>2154</td>\n",
       "      <td>3821Z</td>\n",
       "      <td>Traitement et élimination des déchets non dang...</td>\n",
       "      <td>5.(d)</td>\n",
       "      <td>Décharges, à l'exception des décharges de déch...</td>\n",
       "    </tr>\n",
       "    <tr>\n",
       "      <th>8962</th>\n",
       "      <td>0006503580</td>\n",
       "      <td>VERSEO</td>\n",
       "      <td>53494719700016</td>\n",
       "      <td>1 Avenue du Maréchal Juin</td>\n",
       "      <td>78000</td>\n",
       "      <td>VERSAILLES</td>\n",
       "      <td>YVELINES</td>\n",
       "      <td>ILE-DE-FRANCE</td>\n",
       "      <td>635320.000000</td>\n",
       "      <td>6855013.000000</td>\n",
       "      <td>2154</td>\n",
       "      <td>3530Z</td>\n",
       "      <td>Production et distribution de vapeur et d'air ...</td>\n",
       "      <td>1.(c)</td>\n",
       "      <td>Centrales thermiques et autres installations d...</td>\n",
       "    </tr>\n",
       "  </tbody>\n",
       "</table>\n",
       "<p>8963 rows × 15 columns</p>\n",
       "</div>"
      ],
      "text/plain": [
       "     identifiant                        nom_etablissement    numero_siret  \\\n",
       "0     0009073402                           STEP - BEZIERS  41003460701688   \n",
       "1     0009076401                 STEP - Pont de l'aveugle  20006710600241   \n",
       "2     0009076202                  STEP - Loison Sous Lens  57202552600813   \n",
       "3     0009077801                  SIAAP - Site Seine Aval  25755000400044   \n",
       "4     0009079001                             UDEP-BELFORT  20006905200070   \n",
       "...          ...                                      ...             ...   \n",
       "8958  0010400114             AIR LIQUIDE FRANCE INDUSTRIE  31411950400681   \n",
       "8959  0010800317         PERNAT EMILE SA (ETABLISSEMENTS)  60632019000055   \n",
       "8960  0018200203                            PLASTISUD SAS  44389311000025   \n",
       "8961  0018300518  Communauté de Communes Nord Bassin Thau  24340075100117   \n",
       "8962  0006503580                                   VERSEO  53494719700016   \n",
       "\n",
       "                                                adresse code_postal  \\\n",
       "0                                   Plaine Saint Pierre       34500   \n",
       "1                                  17 avenue de l'adour       64600   \n",
       "2                                       1 route de lens       62218   \n",
       "3                                                BP 104       78603   \n",
       "4     Boulevard Dunant (entrée par Allée des Grands ...       90000   \n",
       "...                                                 ...         ...   \n",
       "8958  Rue Gaston Monmousseau, Plateforme Chimique de...       38150   \n",
       "8959         375, rue des techniques, ZI des prés paris       74970   \n",
       "8960             5, rue Joseph Jacquard, ZI d'En Tourre       11400   \n",
       "8961                          Route de Mèze, CD 5E BP 5       34560   \n",
       "8962                          1 Avenue du Maréchal Juin       78000   \n",
       "\n",
       "                commune            departement                   region  \\\n",
       "0               BEZIERS                HERAULT                OCCITANIE   \n",
       "1                ANGLET   PYRENEES-ATLANTIQUES       NOUVELLE-AQUITAINE   \n",
       "2      LOISON-SOUS-LENS          PAS-DE-CALAIS          HAUTS-DE-FRANCE   \n",
       "3      MAISONS-LAFFITTE               YVELINES            ILE-DE-FRANCE   \n",
       "4               BELFORT  TERRITOIRE-DE-BELFORT  BOURGOGNE-FRANCHE-COMTE   \n",
       "...                 ...                    ...                      ...   \n",
       "8958  SALAISE-SUR-SANNE                  ISERE     AUVERGNE-RHONE-ALPES   \n",
       "8959          MARIGNIER           HAUTE-SAVOIE     AUVERGNE-RHONE-ALPES   \n",
       "8960      CASTELNAUDARY                   AUDE                OCCITANIE   \n",
       "8961        VILLEVEYRAC                HERAULT                OCCITANIE   \n",
       "8962         VERSAILLES               YVELINES            ILE-DE-FRANCE   \n",
       "\n",
       "      coordonnees_x   coordonnees_y code_epsg code_ape  \\\n",
       "0     672948.910000  1813634.130000     27572    3700Z   \n",
       "1         -1.498014       43.502093      4326    3700Z   \n",
       "2          2.856548       50.435944      4326    3700Z   \n",
       "3          2.140590       48.984100      4326    3700Z   \n",
       "4          6.861504       47.625407      4326    3700Z   \n",
       "...             ...             ...       ...      ...   \n",
       "8958  840112.000000  6473836.000000      2154    2011Z   \n",
       "8959  970803.000000  6559043.000000      2154    2562A   \n",
       "8960  615286.000000  6245922.000000      2154    2573A   \n",
       "8961  747911.000000  6264523.000000      2154    3821Z   \n",
       "8962  635320.000000  6855013.000000      2154    3530Z   \n",
       "\n",
       "                                            libelle_ape code_eprtr  \\\n",
       "0                 Collecte et traitement des eaux usées      5.(f)   \n",
       "1                 Collecte et traitement des eaux usées      5.(f)   \n",
       "2                 Collecte et traitement des eaux usées      5.(f)   \n",
       "3                 Collecte et traitement des eaux usées      5.(f)   \n",
       "4                 Collecte et traitement des eaux usées      5.(f)   \n",
       "...                                                 ...        ...   \n",
       "8958                     Fabrication de gaz industriels  4.(a).(i)   \n",
       "8959                                        Décolletage        NaN   \n",
       "8960                   Fabrication de moules et modèles        NaN   \n",
       "8961  Traitement et élimination des déchets non dang...      5.(d)   \n",
       "8962  Production et distribution de vapeur et d'air ...      1.(c)   \n",
       "\n",
       "                                          libelle_eprtr  \n",
       "0     Installations de traitement des eaux urbaines ...  \n",
       "1     Installations de traitement des eaux urbaines ...  \n",
       "2     Installations de traitement des eaux urbaines ...  \n",
       "3     Installations de traitement des eaux urbaines ...  \n",
       "4     Installations de traitement des eaux urbaines ...  \n",
       "...                                                 ...  \n",
       "8958  hydrocarbures simples (linéaires ou cycliques,...  \n",
       "8959                                                NaN  \n",
       "8960                                                NaN  \n",
       "8961  Décharges, à l'exception des décharges de déch...  \n",
       "8962  Centrales thermiques et autres installations d...  \n",
       "\n",
       "[8963 rows x 15 columns]"
      ]
     },
     "execution_count": 4,
     "metadata": {},
     "output_type": "execute_result"
    }
   ],
   "source": [
    "plants = pd.read_csv(data_path, sep=\";\", dtype=str)\n",
    "plants"
   ]
  },
  {
   "cell_type": "code",
   "execution_count": 5,
   "id": "a0166901-bc28-4d04-a7be-a73242bde888",
   "metadata": {},
   "outputs": [],
   "source": [
    "names, sirets, zipcodes = plants[\"nom_etablissement\"].values, plants[\"numero_siret\"].values, plants[\"code_postal\"].values\n",
    "sirens = [siret[0:9] for siret in sirets]"
   ]
  },
  {
   "cell_type": "code",
   "execution_count": 6,
   "id": "42fdb147-9160-4abf-9a4c-188728540a8e",
   "metadata": {},
   "outputs": [],
   "source": [
    "k = 100\n",
    "names, sirens, zipcodes, sirets = names[k:2*k], sirens[k:2*k], zipcodes[k:2*k], sirets[k:2*k]"
   ]
  },
  {
   "cell_type": "markdown",
   "id": "c840b489-67d0-4eca-b8dc-adbf14e20ead",
   "metadata": {},
   "source": [
    "### Social gouv scoring (with zipcodes of plants and without)"
   ]
  },
  {
   "cell_type": "code",
   "execution_count": 7,
   "id": "1cb84ded-2446-4c12-89b4-2c75cb53d981",
   "metadata": {},
   "outputs": [
    {
     "data": {
      "text/plain": [
       "(0.64, 0.16)"
      ]
     },
     "execution_count": 7,
     "metadata": {},
     "output_type": "execute_result"
    }
   ],
   "source": [
    "evaluation.score_algorithms(algorithm=\"social-gouv\", names=names, zipcodes=zipcodes, sirens=sirens, sirets=sirets)"
   ]
  },
  {
   "cell_type": "code",
   "execution_count": 8,
   "id": "f4794740-f208-47e0-9cce-fdb706e5e470",
   "metadata": {},
   "outputs": [
    {
     "data": {
      "text/plain": [
       "(0.53, 0.22)"
      ]
     },
     "execution_count": 8,
     "metadata": {},
     "output_type": "execute_result"
    }
   ],
   "source": [
    "evaluation.score_algorithms(algorithm=\"social-gouv\", names=names, sirens=sirens, sirets=sirets)"
   ]
  },
  {
   "cell_type": "markdown",
   "id": "1d359d74-b1c3-4579-b622-db706ff14f9f",
   "metadata": {},
   "source": [
    "### Annuaire entreprise scoring (with zipcodes of plants and without)"
   ]
  },
  {
   "cell_type": "code",
   "execution_count": 9,
   "id": "92c8cdab-2bc4-40c3-a0f5-455ab23ec9c2",
   "metadata": {},
   "outputs": [
    {
     "data": {
      "text/plain": [
       "(0.35, 0.0)"
      ]
     },
     "execution_count": 9,
     "metadata": {},
     "output_type": "execute_result"
    }
   ],
   "source": [
    "evaluation.score_algorithms(algorithm=\"annuaire-entreprises\", names=names, zipcodes=zipcodes, sirens=sirens, sirets=sirets)"
   ]
  },
  {
   "cell_type": "code",
   "execution_count": 10,
   "id": "482ec05a-e3a4-407f-a320-bf3652013166",
   "metadata": {},
   "outputs": [
    {
     "data": {
      "text/plain": [
       "(0.49, 0.0)"
      ]
     },
     "execution_count": 10,
     "metadata": {},
     "output_type": "execute_result"
    }
   ],
   "source": [
    "evaluation.score_algorithms(algorithm=\"annuaire-entreprises\", names=names, sirens=sirens, sirets=sirets)"
   ]
  },
  {
   "cell_type": "code",
   "execution_count": 12,
   "id": "fd4e20ff-888e-47e4-b533-3febfe5b006f",
   "metadata": {},
   "outputs": [
    {
     "name": "stdout",
     "output_type": "stream",
     "text": [
      "[main dda91fb] Complete evaluation functions\n",
      " 2 files changed, 37 insertions(+), 13 deletions(-)\n",
      "Enumerating objects: 7, done.\n",
      "Counting objects: 100% (7/7), done.\n",
      "Delta compression using up to 72 threads\n",
      "Compressing objects: 100% (4/4), done.\n",
      "Writing objects: 100% (4/4), 1.06 KiB | 1.06 MiB/s, done.\n",
      "Total 4 (delta 3), reused 0 (delta 0)\n",
      "remote: Resolving deltas: 100% (3/3), completed with 3 local objects.\u001b[K\n",
      "To https://github.com/etalab/matchSIRET\n",
      "   117f47b..dda91fb  main -> main\n"
     ]
    }
   ],
   "source": [
    "!git add demonstrator.ipynb\n",
    "!git commit -m \"Add demonstrator of evaluation functions\"\n",
    "!git push"
   ]
  },
  {
   "cell_type": "code",
   "execution_count": null,
   "id": "f444c41d-21e6-45d4-8600-b20c73be0bdf",
   "metadata": {},
   "outputs": [],
   "source": []
  }
 ],
 "metadata": {
  "kernelspec": {
   "display_name": "Python 3 (ipykernel)",
   "language": "python",
   "name": "python3"
  },
  "language_info": {
   "codemirror_mode": {
    "name": "ipython",
    "version": 3
   },
   "file_extension": ".py",
   "mimetype": "text/x-python",
   "name": "python",
   "nbconvert_exporter": "python",
   "pygments_lexer": "ipython3",
   "version": "3.9.12"
  }
 },
 "nbformat": 4,
 "nbformat_minor": 5
}
