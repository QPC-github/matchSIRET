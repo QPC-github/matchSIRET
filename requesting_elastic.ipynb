{
 "cells": [
  {
   "cell_type": "markdown",
   "id": "2e9d564d-f705-42ff-a7d6-3f0cad78932e",
   "metadata": {},
   "source": [
    "# Requests to Elasticsearch index"
   ]
  },
  {
   "cell_type": "code",
   "execution_count": null,
   "id": "44a2d77d-fbbe-4a9f-b8b2-dbd36f38c3eb",
   "metadata": {},
   "outputs": [],
   "source": []
  },
  {
   "cell_type": "code",
   "execution_count": null,
   "id": "65619af8-3225-4f6b-be7d-5b544e9f969e",
   "metadata": {},
   "outputs": [],
   "source": [
    "from worksites import WorkSiteName, GeoWorkSiteName, geocode_worksites\n",
    "from queries import request_elastic"
   ]
  },
  {
   "cell_type": "code",
   "execution_count": null,
   "id": "0b33cd03-1abf-4a31-9114-a6ef64ff43aa",
   "metadata": {},
   "outputs": [],
   "source": [
    "ELASTIC_URL = \"http://elasticsearch-master:9200\"\n",
    "conn = es.Elasticsearch(ELASTIC_URL)"
   ]
  },
  {
   "cell_type": "code",
   "execution_count": null,
   "id": "312a2f5e-2c1b-4e76-92df-8fcf1dc20489",
   "metadata": {},
   "outputs": [],
   "source": [
    "wks=[\n",
    "    WorkSiteName(**{\"siret\":\"55208131766522\", \"name\":\"EDF\", \"postcode\":\"75008\", \"cityname\": \"Paris\", \"address\":\"22 AV DE WAGRAM\"}),\n",
    "    WorkSiteName(**{\"name\":\"LECLERC\", \"postcode\":\"75008\", \"cityname\": \"Paris\", \"address\":\"22 AV DE WAGRAM\"}),\n",
    "]\n",
    "\n",
    "geowks = geocode_worksites(wks)\n",
    "geowks"
   ]
  },
  {
   "cell_type": "code",
   "execution_count": null,
   "id": "6ae3492a-9f56-40c8-9280-0c57d4c5c427",
   "metadata": {},
   "outputs": [],
   "source": [
    "request_elastic(conn, geowks)"
   ]
  },
  {
   "cell_type": "code",
   "execution_count": null,
   "id": "e270158b-a10f-4038-9a75-087bafadbac2",
   "metadata": {},
   "outputs": [],
   "source": []
  }
 ],
 "metadata": {
  "kernelspec": {
   "display_name": "Python 3 (ipykernel)",
   "language": "python",
   "name": "python3"
  },
  "language_info": {
   "codemirror_mode": {
    "name": "ipython",
    "version": 3
   },
   "file_extension": ".py",
   "mimetype": "text/x-python",
   "name": "python",
   "nbconvert_exporter": "python",
   "pygments_lexer": "ipython3",
   "version": "3.10.6"
  }
 },
 "nbformat": 4,
 "nbformat_minor": 5
}
