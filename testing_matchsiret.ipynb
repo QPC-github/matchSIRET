{
 "cells": [
  {
   "cell_type": "markdown",
   "id": "2e9d564d-f705-42ff-a7d6-3f0cad78932e",
   "metadata": {},
   "source": [
    "# Evaluation of SIRET index on French RESTAURANTS open database"
   ]
  },
  {
   "cell_type": "code",
   "execution_count": null,
   "id": "7975fb91-a76c-4696-8d18-32a7218de6d1",
   "metadata": {},
   "outputs": [],
   "source": [
    "%reload_ext autoreload\n",
    "%autoreload 2"
   ]
  },
  {
   "cell_type": "code",
   "execution_count": null,
   "id": "65619af8-3225-4f6b-be7d-5b544e9f969e",
   "metadata": {},
   "outputs": [],
   "source": [
    "from worksites import WorkSiteName, GeoWorkSiteName, geocode_worksites\n",
    "from queries import request_elastic\n",
    "import pandas as pd\n",
    "import os\n",
    "import elasticsearch as es"
   ]
  },
  {
   "cell_type": "code",
   "execution_count": null,
   "id": "9dc4e9b4-82f3-4710-98bc-6e415d39e193",
   "metadata": {},
   "outputs": [],
   "source": [
    "try:\n",
    "    os.remove(\"export_alimconfiance.csv\")\n",
    "except:\n",
    "    pass\n",
    "!wget -c \"https://www.data.gouv.fr/fr/datasets/r/fff0cc27-977b-40d5-9c11-f7e4e79a0b72\" -O export_alimconfiance.csv"
   ]
  },
  {
   "cell_type": "code",
   "execution_count": null,
   "id": "046bcff6-dea5-49f0-81a3-129d5dc71b7b",
   "metadata": {},
   "outputs": [],
   "source": [
    "# Preparing evaluatest dataset (database of French restaurants)"
   ]
  },
  {
   "cell_type": "code",
   "execution_count": null,
   "id": "59d4820e-65df-4d7b-814c-91a71653a088",
   "metadata": {},
   "outputs": [],
   "source": [
    "size_test = 100\n",
    "df = pd.read_csv(\"export_alimconfiance.csv\", sep=\";\", dtype=str)[[\"APP_Libelle_etablissement\", \"SIRET\", \"Libelle_commune\", \"Code_postal\", \"Adresse_2_UA\", \"geores\"]]"
   ]
  },
  {
   "cell_type": "code",
   "execution_count": null,
   "id": "0380505a-75ee-470a-abcb-2dc2d5664450",
   "metadata": {},
   "outputs": [],
   "source": [
    "df = df[(df[\"Code_postal\"].str[:2] != \"95\") & (df[\"Code_postal\"].str[:2] != \"94\")]"
   ]
  },
  {
   "cell_type": "code",
   "execution_count": null,
   "id": "07eccb7d-1d59-4505-a1fd-4020e4425459",
   "metadata": {},
   "outputs": [],
   "source": [
    "df = df[10:11]"
   ]
  },
  {
   "cell_type": "code",
   "execution_count": null,
   "id": "179a26aa-5e3d-427e-b8ff-4058295be985",
   "metadata": {},
   "outputs": [],
   "source": [
    "wks = [\n",
    "    WorkSiteName(**{\n",
    "        \"siret\":row[\"SIRET\"],\n",
    "        \"name\": row[\"APP_Libelle_etablissement\"],\n",
    "        \"postcode\": row[\"Code_postal\"],\n",
    "        \"cityname\": row[\"Libelle_commune\"], \n",
    "        \"address\": row[\"Adresse_2_UA\"]\n",
    "    })\n",
    "    for k, row in df.head(size_test).iterrows()\n",
    "]"
   ]
  },
  {
   "cell_type": "code",
   "execution_count": null,
   "id": "312a2f5e-2c1b-4e76-92df-8fcf1dc20489",
   "metadata": {
    "tags": []
   },
   "outputs": [],
   "source": [
    "geowks = geocode_worksites(wks)"
   ]
  },
  {
   "cell_type": "code",
   "execution_count": null,
   "id": "0b33cd03-1abf-4a31-9114-a6ef64ff43aa",
   "metadata": {},
   "outputs": [],
   "source": [
    "ELASTIC_URL = \"http://elasticsearch-master:9200\"\n",
    "conn = es.Elasticsearch(ELASTIC_URL)"
   ]
  },
  {
   "cell_type": "code",
   "execution_count": null,
   "id": "a05f7ce0-82e1-48ad-aaaf-56cb15956f0b",
   "metadata": {},
   "outputs": [],
   "source": [
    "# Check if the first response of Elasticsearch"
   ]
  },
  {
   "cell_type": "code",
   "execution_count": null,
   "id": "8463ae4a-5bc3-4932-a3a6-342ea6f0a048",
   "metadata": {},
   "outputs": [],
   "source": [
    "geo_threshold = 0.7"
   ]
  },
  {
   "cell_type": "code",
   "execution_count": null,
   "id": "ce3ebbd2-5f81-42c7-bb2e-eb0e0804bad3",
   "metadata": {},
   "outputs": [],
   "source": [
    "def check_if_same_score(output):\n",
    "    if output:\n",
    "        filter_output = []\n",
    "        score = output[0][\"_score\"]\n",
    "        for out in output:\n",
    "            if out[\"_score\"] == score:\n",
    "                filter_output.append(out)\n",
    "            else:\n",
    "                return filter_output\n",
    "    else:\n",
    "        return []"
   ]
  },
  {
   "cell_type": "code",
   "execution_count": null,
   "id": "cba90a93-1914-4df4-8dbb-b3d5b1f16abc",
   "metadata": {},
   "outputs": [],
   "source": [
    "geowk.name = \"LIDL\""
   ]
  },
  {
   "cell_type": "code",
   "execution_count": null,
   "id": "057938d9-6da7-4778-a429-b9bc6e23732c",
   "metadata": {},
   "outputs": [],
   "source": [
    "geowk"
   ]
  },
  {
   "cell_type": "code",
   "execution_count": null,
   "id": "6ae3492a-9f56-40c8-9280-0c57d4c5c427",
   "metadata": {
    "tags": []
   },
   "outputs": [],
   "source": [
    "def get_answer(conn, geoworksite, siret_truth:int, geo_threshold: float):\n",
    "    output = request_elastic(conn, geowk, geo_threshold=geo_threshold, use_geo=True)\n",
    "    output = check_if_same_score(output)\n",
    "    if output:\n",
    "        for out in output:\n",
    "            if out[\"_source\"][\"siret\"] == siret_truth:\n",
    "                return out\n",
    "    else:\n",
    "        output = request_elastic(conn, geowk, use_geo=False)\n",
    "        output = check_if_same_score(output)\n",
    "        if output:\n",
    "            for out in output:\n",
    "                if out[\"_source\"][\"siret\"] == siret_truth:\n",
    "                    return out\n",
    "        else:\n",
    "            return\n",
    "\n",
    "def all_relevant_elastic_answers(conn, geoworksite, geo_threshold:float):\n",
    "    output = request_elastic(conn, geowk, geo_threshold=geo_threshold)\n",
    "\n",
    "\n",
    "score = 0\n",
    "for geowk in geowks:\n",
    "    answer = get_answer(conn, geoworksite=geowk, siret_truth=geowk.siret, geo_threshold=geo_threshold)\n",
    "    print(\"----\")\n",
    "    print(geowk.name)\n",
    "    if answer:\n",
    "        score += 1\n",
    "        print(\"{} - {} - {}\".format(answer[\"_score\"], geowk.siret, answer[\"_source\"][\"nom_complet\"]))\n",
    "    else:\n",
    "        print(\"no match\")\n",
    "\n",
    "print(f\"\\n\\nSCORE OF RETRIEVAL: {score/size_test*100}%\")"
   ]
  },
  {
   "cell_type": "code",
   "execution_count": null,
   "id": "fbe1b898-14de-4d60-acfc-8cc45a385283",
   "metadata": {},
   "outputs": [],
   "source": [
    "pd.options.display.max_rows= 100"
   ]
  },
  {
   "cell_type": "code",
   "execution_count": null,
   "id": "a232536d-c3ff-42cf-907d-4b825cf96754",
   "metadata": {},
   "outputs": [],
   "source": [
    "df[10:11]"
   ]
  },
  {
   "cell_type": "code",
   "execution_count": null,
   "id": "d42c4488-4db0-4ca3-9958-5a6154dc010a",
   "metadata": {
    "tags": []
   },
   "outputs": [],
   "source": [
    "#request_elastic(conn, geowks[0])"
   ]
  }
 ],
 "metadata": {
  "kernelspec": {
   "display_name": "Python 3 (ipykernel)",
   "language": "python",
   "name": "python3"
  },
  "language_info": {
   "codemirror_mode": {
    "name": "ipython",
    "version": 3
   },
   "file_extension": ".py",
   "mimetype": "text/x-python",
   "name": "python",
   "nbconvert_exporter": "python",
   "pygments_lexer": "ipython3",
   "version": "3.10.4"
  }
 },
 "nbformat": 4,
 "nbformat_minor": 5
}
